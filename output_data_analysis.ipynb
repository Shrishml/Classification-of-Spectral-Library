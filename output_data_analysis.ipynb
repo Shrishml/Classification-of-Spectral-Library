{
 "cells": [
  {
   "cell_type": "code",
   "execution_count": 12,
   "metadata": {},
   "outputs": [],
   "source": [
    "import numpy as np \n",
    "import os\n",
    "import pandas as pd\n",
    "from scipy import stats\n",
    "\n",
    "l=(os.listdir()) # listing all datafiles from outputs\n",
    "\n",
    "# Making statistics of data analysis\n",
    "stas=[]   \n",
    "for i in range(0,len(l)):\n",
    "    try:\n",
    "        yy=np.loadtxt(l[i])   \n",
    "        x=yy[:,0]\n",
    "        y=yy[:,1]\n",
    "        slope, intercept, r_value, p_value, std_err = stats.linregress(x,y)\n",
    "        std=np.std(y-x)\n",
    "        stas.append([l[i],slope,intercept,r_value,p_value,std_err,std])\n",
    "    except:\n",
    "        pass\n",
    "c=[\"name\",\"slope\",\"intercept\",\"r_value\",\"p_value\",\"std_err\",\"subclass_error\"]\n",
    "df=pd.DataFrame(np.array(stas),columns=c)\n",
    "df.to_csv('stats.csv') #saving data into csv file"
   ]
  }
 ],
 "metadata": {
  "kernelspec": {
   "display_name": "Python 3",
   "language": "python",
   "name": "python3"
  },
  "language_info": {
   "codemirror_mode": {
    "name": "ipython",
    "version": 3
   },
   "file_extension": ".py",
   "mimetype": "text/x-python",
   "name": "python",
   "nbconvert_exporter": "python",
   "pygments_lexer": "ipython3",
   "version": "3.6.8"
  }
 },
 "nbformat": 4,
 "nbformat_minor": 2
}
